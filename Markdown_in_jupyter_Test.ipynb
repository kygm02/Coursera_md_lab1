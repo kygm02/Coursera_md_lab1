{
  "cells": [
    {
      "cell_type": "markdown",
      "metadata": {
        "id": "view-in-github",
        "colab_type": "text"
      },
      "source": [
        "<a href=\"https://colab.research.google.com/github/kygm02/Coursera_md_lab1/blob/main/Markdown_in_jupyter_Test.ipynb\" target=\"_parent\"><img src=\"https://colab.research.google.com/assets/colab-badge.svg\" alt=\"Open In Colab\"/></a>"
      ]
    },
    {
      "cell_type": "code",
      "execution_count": null,
      "id": "ef4c575c",
      "metadata": {
        "ExecuteTime": {
          "end_time": "2025-06-29T11:57:49.407842Z",
          "start_time": "2025-06-29T11:57:49.405512Z"
        },
        "colab": {
          "base_uri": "https://localhost:8080/"
        },
        "id": "ef4c575c",
        "outputId": "30e17fb1-2585-410b-f06a-f32c1b2de2b3"
      },
      "outputs": [
        {
          "output_type": "stream",
          "name": "stdout",
          "text": [
            "hello World\n"
          ]
        }
      ],
      "source": [
        "print('hello World')"
      ]
    },
    {
      "cell_type": "markdown",
      "id": "4f69db52",
      "metadata": {
        "ExecuteTime": {
          "end_time": "2025-06-29T11:58:49.764881Z",
          "start_time": "2025-06-29T11:58:49.762737Z"
        },
        "id": "4f69db52"
      },
      "source": [
        "# A first-level heading\n",
        "## A second-level heading\n",
        "### A third-level heading"
      ]
    },
    {
      "cell_type": "markdown",
      "id": "379a9851",
      "metadata": {
        "ExecuteTime": {
          "end_time": "2025-06-29T11:59:42.467619Z",
          "start_time": "2025-06-29T11:59:42.136537Z"
        },
        "id": "379a9851"
      },
      "source": [
        "**This _text_ is _extremely_ important**"
      ]
    },
    {
      "cell_type": "markdown",
      "id": "afc1ffc1",
      "metadata": {
        "id": "afc1ffc1"
      },
      "source": [
        "The background color is `#ffffff` for light mode and `#0969DA` for dark mode."
      ]
    },
    {
      "cell_type": "markdown",
      "id": "014da6ed",
      "metadata": {
        "id": "014da6ed"
      },
      "source": [
        "- [x] list 1\n",
        "- [ ] list 2\n",
        "- [x] list 3"
      ]
    }
  ],
  "metadata": {
    "kernelspec": {
      "display_name": "Python 3 (ipykernel)",
      "language": "python",
      "name": "python3"
    },
    "language_info": {
      "codemirror_mode": {
        "name": "ipython",
        "version": 3
      },
      "file_extension": ".py",
      "mimetype": "text/x-python",
      "name": "python",
      "nbconvert_exporter": "python",
      "pygments_lexer": "ipython3",
      "version": "3.10.12"
    },
    "toc": {
      "base_numbering": 1,
      "nav_menu": {},
      "number_sections": true,
      "sideBar": true,
      "skip_h1_title": false,
      "title_cell": "Table of Contents",
      "title_sidebar": "Contents",
      "toc_cell": false,
      "toc_position": {},
      "toc_section_display": true,
      "toc_window_display": false
    },
    "varInspector": {
      "cols": {
        "lenName": 16,
        "lenType": 16,
        "lenVar": 40
      },
      "kernels_config": {
        "python": {
          "delete_cmd_postfix": "",
          "delete_cmd_prefix": "del ",
          "library": "var_list.py",
          "varRefreshCmd": "print(var_dic_list())"
        },
        "r": {
          "delete_cmd_postfix": ") ",
          "delete_cmd_prefix": "rm(",
          "library": "var_list.r",
          "varRefreshCmd": "cat(var_dic_list()) "
        }
      },
      "types_to_exclude": [
        "module",
        "function",
        "builtin_function_or_method",
        "instance",
        "_Feature"
      ],
      "window_display": false
    },
    "colab": {
      "provenance": [],
      "include_colab_link": true
    }
  },
  "nbformat": 4,
  "nbformat_minor": 5
}